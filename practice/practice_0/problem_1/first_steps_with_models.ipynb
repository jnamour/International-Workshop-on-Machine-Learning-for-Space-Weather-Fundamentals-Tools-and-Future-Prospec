{
  "nbformat": 4,
  "nbformat_minor": 0,
  "metadata": {
    "colab": {
      "name": "first_steps_with_models.ipynb",
      "provenance": [],
      "collapsed_sections": []
    },
    "kernelspec": {
      "name": "python3",
      "display_name": "Python 3"
    },
    "language_info": {
      "name": "python"
    }
  },
  "cells": [
    {
      "cell_type": "markdown",
      "source": [
        "# **Working with Pandas, Numpy y Sklearn (first steps)**\n",
        "\n",
        "- Read the \"Dst.txt\" file.\n",
        "- Select data from 3 consecutive days.\n",
        "- For the selected data, propose a regression (linear, polynomial) based on training data and test data. Use some metric to evaluate the results."
      ],
      "metadata": {
        "id": "J6imCs5AGghM"
      }
    },
    {
      "cell_type": "markdown",
      "source": [
        "# **Data acquisition**"
      ],
      "metadata": {
        "id": "HD7V0SfkH7Hn"
      }
    },
    {
      "cell_type": "code",
      "execution_count": null,
      "metadata": {
        "id": "-nlhIRmRGVKd"
      },
      "outputs": [],
      "source": [
        "import pandas as pd\n",
        "import numpy as np"
      ]
    },
    {
      "cell_type": "code",
      "source": [
        "# 1. Read file \"Dst.txt\".\n",
        "df = pd.read_csv(\"Dst.txt\", sep=\"\\s+\", header=None, skiprows=15)\n",
        "#print(df.shape)\n",
        "#print(df)"
      ],
      "metadata": {
        "id": "s2B1T-CQGuPa"
      },
      "execution_count": null,
      "outputs": []
    },
    {
      "cell_type": "markdown",
      "source": [
        "# **Selecting data**"
      ],
      "metadata": {
        "id": "7vE1Ojb-H_gD"
      }
    },
    {
      "cell_type": "code",
      "source": [
        "# 2. Select data from 3 consecutive days.\n",
        "selectedData = df.iloc[0:3,3:-1]\n",
        "#print(selectedData)"
      ],
      "metadata": {
        "id": "7CyGC4UKGy-L"
      },
      "execution_count": null,
      "outputs": []
    },
    {
      "cell_type": "markdown",
      "source": [
        "# **Spliting data**"
      ],
      "metadata": {
        "id": "4_7tlueZICsd"
      }
    },
    {
      "cell_type": "code",
      "source": [
        "# For the selected data, make a regression (linear, polynomial) \n",
        "# based on train set and make forecasting on test set. Use some metric for the validation of the model.\n",
        "\n",
        "selectedDataToArray = selectedData.to_numpy()\n",
        "\n",
        "selectedDataToArrayReshape = selectedDataToArray.reshape((selectedDataToArray.shape[1]*selectedDataToArray.shape[0],1))\n",
        "\n",
        "plt.plot(selectedDataToArrayReshape)\n",
        "\n",
        "# spliting data on train set and test set\n",
        "from sklearn.model_selection import train_test_split\n",
        "\n",
        "domain = np.arange(0,selectedDataToArrayReshape.shape[0]*selectedDataToArrayReshape.shape[1])\n",
        "del X_train, X_test, y_train, y_test\n",
        "X_train, X_test, y_train, y_test = train_test_split(domain, selectedDataToArrayReshape, test_size=0.33, shuffle=False)\n",
        "\n",
        "plt.figure()\n",
        "plt.plot(X_train, y_train)"
      ],
      "metadata": {
        "id": "VSVGh70gG6nV"
      },
      "execution_count": null,
      "outputs": []
    },
    {
      "cell_type": "markdown",
      "source": [
        "# **Modeling**"
      ],
      "metadata": {
        "id": "V2do6cBHIFXS"
      }
    },
    {
      "cell_type": "code",
      "source": [
        "# modeling\n",
        "from sklearn.linear_model import LinearRegression\n",
        "model = LinearRegression()\n",
        "X_train = X_train.reshape((-1, 1))\n",
        "model.fit(X_train, y_train)"
      ],
      "metadata": {
        "id": "GKu6hFiJHjhD"
      },
      "execution_count": null,
      "outputs": []
    },
    {
      "cell_type": "markdown",
      "source": [
        "# **Forecasting**"
      ],
      "metadata": {
        "id": "cCn5rsFYIHHn"
      }
    },
    {
      "cell_type": "code",
      "source": [
        "# paso 4: obtener resultados\n",
        "\n",
        "print('Intersection:', model.intercept_)\n",
        "print('Slope:', model.coef_)\n",
        "\n",
        "x_test_aux = X_test.reshape((-1, 1))\n",
        "y_pred = model.predict(x_test_aux)"
      ],
      "metadata": {
        "id": "qqbfD_MWHqAU"
      },
      "execution_count": null,
      "outputs": []
    },
    {
      "cell_type": "code",
      "source": [
        "plt.plot(y_test)\n",
        "plt.plot(y_pred)\n",
        "plt.margins(0)"
      ],
      "metadata": {
        "id": "iiQLKgdwHzVy"
      },
      "execution_count": null,
      "outputs": []
    },
    {
      "cell_type": "markdown",
      "source": [
        "# **Validation**"
      ],
      "metadata": {
        "id": "7wjUBw9nIK-T"
      }
    },
    {
      "cell_type": "code",
      "source": [
        "from sklearn.metrics import mean_squared_error as mse\n",
        "print(mse(y_test,y_pred))"
      ],
      "metadata": {
        "id": "n4ziyYUvH1E1"
      },
      "execution_count": null,
      "outputs": []
    },
    {
      "cell_type": "code",
      "source": [
        ""
      ],
      "metadata": {
        "id": "wjAFc73xHdcX"
      },
      "execution_count": null,
      "outputs": []
    }
  ]
}